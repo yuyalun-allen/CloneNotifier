{
 "cells": [
  {
   "cell_type": "code",
   "execution_count": 1,
   "metadata": {},
   "outputs": [],
   "source": [
    "import pandas as pd"
   ]
  },
  {
   "cell_type": "code",
   "execution_count": 6,
   "metadata": {},
   "outputs": [
    {
     "data": {
      "text/html": [
       "<div>\n",
       "<style scoped>\n",
       "    .dataframe tbody tr th:only-of-type {\n",
       "        vertical-align: middle;\n",
       "    }\n",
       "\n",
       "    .dataframe tbody tr th {\n",
       "        vertical-align: top;\n",
       "    }\n",
       "\n",
       "    .dataframe thead th {\n",
       "        text-align: right;\n",
       "    }\n",
       "</style>\n",
       "<table border=\"1\" class=\"dataframe\">\n",
       "  <thead>\n",
       "    <tr style=\"text-align: right;\">\n",
       "      <th></th>\n",
       "      <th>CloneSet ID</th>\n",
       "      <th>Clone ID</th>\n",
       "      <th>VERSION</th>\n",
       "      <th>FILE</th>\n",
       "      <th>STARTLINE</th>\n",
       "      <th>STARTCOLUMN</th>\n",
       "      <th>ENDLINE</th>\n",
       "      <th>ENDCOLUMN</th>\n",
       "      <th>OLDFILE</th>\n",
       "      <th>STARTLINE.1</th>\n",
       "      <th>STARTCOLUMN.1</th>\n",
       "      <th>ENDLINE.1</th>\n",
       "      <th>ENDCOLUMN.1</th>\n",
       "    </tr>\n",
       "    <tr>\n",
       "      <th>CATEGORY</th>\n",
       "      <th></th>\n",
       "      <th></th>\n",
       "      <th></th>\n",
       "      <th></th>\n",
       "      <th></th>\n",
       "      <th></th>\n",
       "      <th></th>\n",
       "      <th></th>\n",
       "      <th></th>\n",
       "      <th></th>\n",
       "      <th></th>\n",
       "      <th></th>\n",
       "      <th></th>\n",
       "    </tr>\n",
       "  </thead>\n",
       "  <tbody>\n",
       "    <tr>\n",
       "      <th>STABLE</th>\n",
       "      <td>2769</td>\n",
       "      <td>2769</td>\n",
       "      <td>2769</td>\n",
       "      <td>2769</td>\n",
       "      <td>2769</td>\n",
       "      <td>2769</td>\n",
       "      <td>2769</td>\n",
       "      <td>2769</td>\n",
       "      <td>2769</td>\n",
       "      <td>2769</td>\n",
       "      <td>2769</td>\n",
       "      <td>2769</td>\n",
       "      <td>2769</td>\n",
       "    </tr>\n",
       "  </tbody>\n",
       "</table>\n",
       "</div>"
      ],
      "text/plain": [
       "          CloneSet ID  Clone ID  VERSION  FILE  STARTLINE  STARTCOLUMN  \\\n",
       "CATEGORY                                                                 \n",
       "STABLE           2769      2769     2769  2769       2769         2769   \n",
       "\n",
       "          ENDLINE  ENDCOLUMN  OLDFILE  STARTLINE.1  STARTCOLUMN.1  ENDLINE.1  \\\n",
       "CATEGORY                                                                       \n",
       "STABLE       2769       2769     2769         2769           2769       2769   \n",
       "\n",
       "          ENDCOLUMN.1  \n",
       "CATEGORY               \n",
       "STABLE           2769  "
      ]
     },
     "execution_count": 6,
     "metadata": {},
     "output_type": "execute_result"
    }
   ],
   "source": [
    "pd.read_csv(\"../../result/Clone.csv\").groupby(by=\"CATEGORY\").count()"
   ]
  },
  {
   "cell_type": "code",
   "execution_count": null,
   "metadata": {},
   "outputs": [],
   "source": []
  }
 ],
 "metadata": {
  "kernelspec": {
   "display_name": ".venv",
   "language": "python",
   "name": "python3"
  },
  "language_info": {
   "codemirror_mode": {
    "name": "ipython",
    "version": 3
   },
   "file_extension": ".py",
   "mimetype": "text/x-python",
   "name": "python",
   "nbconvert_exporter": "python",
   "pygments_lexer": "ipython3",
   "version": "3.12.2"
  }
 },
 "nbformat": 4,
 "nbformat_minor": 2
}
